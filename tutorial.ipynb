{
 "cells": [
  {
   "cell_type": "markdown",
   "metadata": {},
   "source": [
    "# Tutorial for the MSTM-wrapper python package"
   ]
  },
  {
   "cell_type": "markdown",
   "metadata": {},
   "source": [
    "Copyright 2016, Annie Stephenson, Victoria Hwang, Vinothan Manoharan\n",
    "\n",
    "This file is part of the MSTM-wrapper python package.\n",
    "\n",
    "This package is free software: you can redistribute it and/or modify it under the terms of the GNU General Public License as published by the Free Software Foundation, either version 3 of the License, or (at your option) any later version.\n",
    "\n",
    "This package is distributed in the hope that it will be useful, but WITHOUT ANY WARRANTY; without even the implied warranty of MERCHANTABILITY or FITNESS FOR A PARTICULAR PURPOSE. See the GNU General Public License for more details.\n",
    "\n",
    "You should have received a copy of the GNU General Public License along with this package. If not, see http://www.gnu.org/licenses/."
   ]
  },
  {
   "cell_type": "markdown",
   "metadata": {},
   "source": [
    "# Loading and using the package"
   ]
  },
  {
   "cell_type": "markdown",
   "metadata": {},
   "source": [
    "To load, make sure you are in the top directory and do"
   ]
  },
  {
   "cell_type": "code",
   "execution_count": 10,
   "metadata": {
    "collapsed": true
   },
   "outputs": [],
   "source": [
    "import mstm"
   ]
  },
  {
   "cell_type": "markdown",
   "metadata": {},
   "source": [
    "This will populate the mstm namespace with a few functions and classes that make calculations with mstm more straightforward.\n",
    "\n",
    "Now take care of the rest of your imports."
   ]
  },
  {
   "cell_type": "code",
   "execution_count": 11,
   "metadata": {
    "collapsed": true
   },
   "outputs": [],
   "source": [
    "%matplotlib inline\n",
    "import matplotlib.pyplot as plt\n",
    "import numpy as np\n",
    "import pandas as pd"
   ]
  },
  {
   "cell_type": "markdown",
   "metadata": {},
   "source": [
    "# Calculating the reflectance spectrum at a fixed orientation"
   ]
  },
  {
   "cell_type": "markdown",
   "metadata": {},
   "source": [
    "let us run through the example of two water spheres, n = 1.33, in a silica matrix, n = 1.54, both with radius 125 nm\n",
    "\n",
    "First, we define the wavelengths and scattering angles of interest"
   ]
  },
  {
   "cell_type": "code",
   "execution_count": 12,
   "metadata": {
    "collapsed": true
   },
   "outputs": [],
   "source": [
    "wavelength = 0.4, 0.7, 20\n",
    "theta = np.linspace(0, 180, 181)\n",
    "phi = None"
   ]
  },
  {
   "cell_type": "markdown",
   "metadata": {},
   "source": [
    "next, we define a target object, which contains information about the object of which we want to calculate the reflectance"
   ]
  },
  {
   "cell_type": "code",
   "execution_count": 13,
   "metadata": {
    "collapsed": true
   },
   "outputs": [],
   "source": [
    "xpos = [0,1]\n",
    "ypos = [0,0]\n",
    "zpos = [0,0]\n",
    "radii = [0.125, 0.125]\n",
    "n_matrix = 1.54\n",
    "n_spheres = 1.33\n",
    "\n",
    "target = mstm.Target(xpos, ypos, zpos, radii, n_matrix, n_spheres)"
   ]
  },
  {
   "cell_type": "markdown",
   "metadata": {},
   "source": [
    "Now we define an mstm calculation object. This object contains the input parameters and methods for running an mstm calculation"
   ]
  },
  {
   "cell_type": "code",
   "execution_count": 14,
   "metadata": {
    "collapsed": true
   },
   "outputs": [],
   "source": [
    "calculation = mstm.MSTMCalculation(target, wavelength, theta, phi=None)\n",
    "result = calculation.run()"
   ]
  },
  {
   "cell_type": "markdown",
   "metadata": {},
   "source": [
    "by running the calculation, we have created an MSTMResult object. We can now use this as input to functions in the MSTMResult class that calculate physical quantities.\n",
    "\n",
    "Here, we will calculate the reflectance assuming unpolarized incident light (stokes vector is 1,0,0,0)"
   ]
  },
  {
   "cell_type": "code",
   "execution_count": 24,
   "metadata": {
    "collapsed": false
   },
   "outputs": [
    {
     "data": {
      "text/plain": [
       "<matplotlib.text.Text at 0x7f3135430518>"
      ]
     },
     "execution_count": 24,
     "metadata": {},
     "output_type": "execute_result"
    },
    {
     "data": {
      "image/png": "[encoded data removed]",
      "text/plain": [
       "<matplotlib.figure.Figure at 0x7f313544d390>"
      ]
     },
     "metadata": {},
     "output_type": "display_data"
    }
   ],
   "source": [
    "reflectance = result.calc_reflectance(np.array([1, 0, 0, 0]))\n",
    "\n",
    "plt.plot(result.wavelength, reflectance, '.')\n",
    "plt.xlabel('Wavelength (um)')\n",
    "plt.ylabel('Reflectance')\n",
    "plt.title('Reflectance  of two spheres for fixed orientation')"
   ]
  },
  {
   "cell_type": "markdown",
   "metadata": {},
   "source": [
    "# Calculating the reflectance spectrum at a random orientation"
   ]
  },
  {
   "cell_type": "markdown",
   "metadata": {},
   "source": [
    "now let us run through the example of two water spheres, n = 1.33, in a silica matrix, n = 1.54, both with radius 125 nm, but this time we will find a reflectance equivalent to averaging the reflectance over random orientations of the sphere assembly. This technique is useful for correcting for finite size effects in calculating relectances of amorphous materials. \n",
    "\n",
    "we use the same target object as above, but make a small change to the calculation obeject. The parameter 'fixed' is automatically set to True, but now we must change it to False, meaning our assembly is not fixed."
   ]
  },
  {
   "cell_type": "code",
   "execution_count": 18,
   "metadata": {
    "collapsed": true
   },
   "outputs": [],
   "source": [
    "calculation = mstm.MSTMCalculation(target, wavelength, theta, phi=None, fixed = False)\n",
    "result = calculation.run()"
   ]
  },
  {
   "cell_type": "markdown",
   "metadata": {},
   "source": [
    "we can now calculate the reflectance in the same way as the fixed example"
   ]
  },
  {
   "cell_type": "code",
   "execution_count": 23,
   "metadata": {
    "collapsed": false
   },
   "outputs": [
    {
     "data": {
      "text/plain": [
       "<matplotlib.text.Text at 0x7f313a4afcc0>"
      ]
     },
     "execution_count": 23,
     "metadata": {},
     "output_type": "execute_result"
    },
    {
     "data": {
      "image/png": "[encoded data removed]",
      "text/plain": [
       "<matplotlib.figure.Figure at 0x7f3147ec47b8>"
      ]
     },
     "metadata": {},
     "output_type": "display_data"
    }
   ],
   "source": [
    "reflectance = result.calc_reflectance(np.array([1, 0, 0, 0]))\n",
    "\n",
    "plt.plot(result.wavelength, reflectance, '.')\n",
    "plt.xlabel('Wavelength (um)')\n",
    "plt.ylabel('Reflectance')\n",
    "plt.title('Reflectance of two spheres for random orientation')"
   ]
  },
  {
   "cell_type": "markdown",
   "metadata": {},
   "source": [
    "In this case, the reflectances for fixed and random orientation look pretty much the same, but as we add more spheres, we tend to see that the reflectance spectrum looks more smoothed out for random orientation than for the the fixed orientation calculation."
   ]
  },
  {
   "cell_type": "markdown",
   "metadata": {},
   "source": [
    "# Development\n",
    "\n",
    "Here are some tips for contributing code to the package:\n",
    "1. Make sure that your code works in Python 3. You should write print(x) instead of print x, and you should check that any imported package is compatible with Python 3.\n",
    "2. Wrap lines at 79 characters. Use 4 spaces for each indent, and don't use tabs.\n",
    "3. Write docstrings for all modules, functions, and classes. We use the numpy docstring standards.\n",
    "4. Write tests for any module you develop and for any changes or additions you make to existing modules. We use the nose testing framework. To run the tests, open a shell, go the to top-level directory (above the directory called \"structcol\"), and run nosetests.\n",
    "5. Follow the PEP 8 style guide for naming functions, classes, and modules.\n",
    "6. If you contribute code to an existing file, add your name to the Copyright notice in the header. Add another year if necessary (for example, if the notice says \"Copyright 2015, A. Name\" and the year is now 2016, amend the notice to read \"Copyright 2015, 2016, A. Name and Your Name\")\n",
    "7. If you contribute a new file, add the GPL copyright notice to the header (see other files in the package for examples) and put your name and the current year in the Copyright notice.\n",
    "8. Keep all proprietary information and non-open-source code out of the package, and make sure to cite sources for any calculation methods or dispersion formulas."
   ]
  }
 ],
 "metadata": {
  "kernelspec": {
   "display_name": "Python [Root]",
   "language": "python",
   "name": "Python [Root]"
  },
  "language_info": {
   "codemirror_mode": {
    "name": "ipython",
    "version": 3
   },
   "file_extension": ".py",
   "mimetype": "text/x-python",
   "name": "python",
   "nbconvert_exporter": "python",
   "pygments_lexer": "ipython3",
   "version": "3.5.2"
  }
 },
 "nbformat": 4,
 "nbformat_minor": 0
}
